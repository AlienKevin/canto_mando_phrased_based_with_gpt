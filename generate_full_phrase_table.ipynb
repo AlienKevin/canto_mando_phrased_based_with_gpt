{
 "cells": [
  {
   "cell_type": "code",
   "execution_count": 3,
   "metadata": {},
   "outputs": [
    {
     "name": "stdout",
     "output_type": "stream",
     "text": [
      "Generated Cantonese to Mandarin phrase table of size 11751\n",
      "[('少少', ['一丁點兒', '一點兒', '一點', '一點點兒', '很少份量', '很少']), ('一上一落', ['一上一下']), ('下', ['一下']), ('一搊', ['一串']), ('啲', ['一些', '些', '某些', '這些']), ('單嘢', ['一件事']), ('件', ['一件']), ('一班', ['一伙', '全班', '那班']), ('單拖', ['一個人']), ('獨贏', ['一個人得頭彩'])]\n"
     ]
    }
   ],
   "source": [
    "from collections import defaultdict\n",
    "\n",
    "can2man_table = defaultdict(list)\n",
    "\n",
    "with open(\"phrase_table.txt\", \"r\") as input_file:\n",
    "    for line in input_file.read().splitlines():\n",
    "        [man_word, can_word] = line.split(\"|\")\n",
    "        can2man_table[can_word].append(man_word)\n",
    "\n",
    "print(f\"Generated Cantonese to Mandarin phrase table of size {len(can2man_table)}\")\n",
    "print(list(can2man_table.items())[0:10])"
   ]
  },
  {
   "cell_type": "code",
   "execution_count": 2,
   "metadata": {},
   "outputs": [
    {
     "name": "stdout",
     "output_type": "stream",
     "text": [
      "A sample of common traditional characters:  ['梳', '燭', '粳', '憑', '賢', '曾', '舔', '刨', '寞', '箭']\n"
     ]
    }
   ],
   "source": [
    "common_trad_chars = None\n",
    "\n",
    "with open(\"common_trad_chars.txt\", \"r\") as input_file:\n",
    "    common_trad_chars = set(input_file.read())\n",
    "\n",
    "print(\"A sample of common traditional characters: \", list(common_trad_chars)[0:10])"
   ]
  },
  {
   "cell_type": "code",
   "execution_count": null,
   "metadata": {},
   "outputs": [],
   "source": [
    "import pandas as pd\n",
    "from StarCC import PresetConversion\n",
    "convert = PresetConversion(src='cn', dst='hk', with_phrase=False)\n",
    "\n",
    "# df = pd.read_csv(\"common_man_words.csv\", sep=\"\\t\")\n",
    "# common_man_words = { convert(word) for word in df[\"word\"] }\n",
    "common_man_words = set()\n",
    "with open(\"common_man_words.dict.yaml\", \"r\") as input_file:\n",
    "    for line in input_file.read().splitlines():\n",
    "        if not line.startswith(\"#\"):\n",
    "            word = line.split(\"\\t\")[0]\n",
    "            common_man_words.add(convert(word))\n",
    "\n",
    "with open(\"common_man_words.txt\", \"w+\") as output_file:\n",
    "    for word in common_man_words:\n",
    "        output_file.write(word + \"\\n\")\n",
    "\n",
    "print(f\"Got {len(common_man_words)} Mandarin words\")"
   ]
  },
  {
   "cell_type": "code",
   "execution_count": null,
   "metadata": {},
   "outputs": [],
   "source": [
    "df = pd.read_csv(\"common_can_words.csv\", sep=\",\")\n",
    "common_can_words = set(df[\"char\"])\n",
    "\n",
    "print(f\"Got {len(common_can_words)} Cantonese words\")"
   ]
  },
  {
   "cell_type": "code",
   "execution_count": null,
   "metadata": {},
   "outputs": [],
   "source": [
    "common_words = common_can_words.intersection(common_man_words)\n",
    "\n",
    "num_added_words = 0\n",
    "for word in common_words:\n",
    "    if not word in can2man_table or not word in can2man_table[word]:\n",
    "        num_added_words += 1\n",
    "        can2man_table[word].append(word)\n",
    "\n",
    "with open(\"can2man_phrase_table.txt\", \"w+\") as output_file:\n",
    "    for can, mans in can2man_table.items():\n",
    "        for man in mans:\n",
    "            output_file.write(can + \"|\" + man + \"\\n\")\n",
    "\n",
    "print(f\"Got {len(common_words)} common words\")\n",
    "print(f\"Added {num_added_words} shared words to can2man_table\")"
   ]
  },
  {
   "cell_type": "code",
   "execution_count": null,
   "metadata": {},
   "outputs": [],
   "source": [
    "# Extend phrase table with wordshk\n",
    "import json\n",
    "import math\n",
    "\n",
    "with open(\"wordshk_phrase_table.json\", \"r\") as input_file:\n",
    "    wordshk_table = json.load(input_file)\n",
    "\n",
    "def max_man_len(can_word_len: int) -> int:\n",
    "    return math.ceil(-2 * math.tanh(.5 * can_word_len - 1.9) + 3.1)\n",
    "\n",
    "print(f\"Showing first few pairs added from wordshk\")\n",
    "num_added_words = 0\n",
    "for word, mans in wordshk_table.items():\n",
    "    if not word in common_trad_chars and (not word in can2man_table or not word in can2man_table[word]):\n",
    "        num_added_words += 1\n",
    "        mans = [m for ms in mans for m in ms if len(m) <= max_man_len(len(word))]\n",
    "        if num_added_words <= 10 and len(mans) > 0:\n",
    "            print(f\"Adding the pair {word} -> {mans}\")\n",
    "        if len(mans) > 0:\n",
    "            can2man_table[word].extend(mans)\n",
    "\n",
    "with open(\"can2man_phrase_table_all.txt\", \"w+\") as output_file:\n",
    "    for can, mans in can2man_table.items():\n",
    "        for man in mans:\n",
    "            output_file.write(can + \"|\" + man + \"\\n\")\n",
    "\n",
    "print(f\"Added {num_added_words} new words from wordshk to can2man_table\")"
   ]
  }
 ],
 "metadata": {
  "kernelspec": {
   "display_name": "Python 3",
   "language": "python",
   "name": "python3"
  },
  "language_info": {
   "codemirror_mode": {
    "name": "ipython",
    "version": 3
   },
   "file_extension": ".py",
   "mimetype": "text/x-python",
   "name": "python",
   "nbconvert_exporter": "python",
   "pygments_lexer": "ipython3",
   "version": "3.10.6"
  },
  "orig_nbformat": 4
 },
 "nbformat": 4,
 "nbformat_minor": 2
}

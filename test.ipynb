{
 "cells": [
  {
   "cell_type": "code",
   "execution_count": 2,
   "metadata": {},
   "outputs": [],
   "source": [
    "from transformers import BertTokenizer, BartForConditionalGeneration, Text2TextGenerationPipeline\n",
    "tokenizer = BertTokenizer.from_pretrained('Ayaka/bart-base-cantonese')\n",
    "model = BartForConditionalGeneration.from_pretrained('Ayaka/bart-base-cantonese')"
   ]
  },
  {
   "cell_type": "code",
   "execution_count": 5,
   "metadata": {},
   "outputs": [],
   "source": [
    "text2text_generator = Text2TextGenerationPipeline(model, tokenizer)  \n"
   ]
  },
  {
   "cell_type": "code",
   "execution_count": 11,
   "metadata": {},
   "outputs": [
    {
     "name": "stdout",
     "output_type": "stream",
     "text": [
      "聽日就要返香港，我激動到瞓唔着\n",
      "明天就要回香港，我激動到睡不著\n",
      "他廢極了，說話沒個完\n"
     ]
    }
   ],
   "source": [
    "output = text2text_generator('聽日就要返香港，我激動到[MASK]唔着', max_length=50, do_sample=False)\n",
    "print(output[0]['generated_text'].replace(' ', ''))\n"
   ]
  },
  {
   "cell_type": "code",
   "execution_count": 21,
   "metadata": {},
   "outputs": [
    {
     "name": "stdout",
     "output_type": "stream",
     "text": [
      "明天就要回香港，我激動到睡不著\n",
      "他廢極了，說話沒個完\n",
      "他看了看他爸爸\n",
      "把廣東話讀偏少少就是普通話了\n",
      "他把廣東話讀偏了就是普通話了\n",
      "人家寫字你不要在這裡動個不停\n"
     ]
    }
   ],
   "source": [
    "output = text2text_generator('明天就要回香港，我激動到[MASK]不著', max_length=20, do_sample=False)\n",
    "print(output[0]['generated_text'].replace(' ', ''))\n",
    "\n",
    "output = text2text_generator('他[MASK]極了，說話沒個完', max_length=20, do_sample=False)\n",
    "print(output[0]['generated_text'].replace(' ', ''))\n",
    "\n",
    "output = text2text_generator('他[MASK]了看他爸爸', max_length=20, do_sample=False)\n",
    "print(output[0]['generated_text'].replace(' ', ''))\n",
    "\n",
    "output = text2text_generator('把廣東話讀偏[MASK]就是普通話了', max_length=20, do_sample=False)\n",
    "print(output[0]['generated_text'].replace(' ', ''))\n",
    "output = text2text_generator('他把廣東話讀偏[MASK]就是普通話了', max_length=20, do_sample=False)\n",
    "print(output[0]['generated_text'].replace(' ', ''))\n",
    "output = text2text_generator('人家寫字你不要在這[MASK]動個不停', max_length=20, do_sample=False)\n",
    "print(output[0]['generated_text'].replace(' ', ''))"
   ]
  }
 ],
 "metadata": {
  "kernelspec": {
   "display_name": "Python 3",
   "language": "python",
   "name": "python3"
  },
  "language_info": {
   "codemirror_mode": {
    "name": "ipython",
    "version": 3
   },
   "file_extension": ".py",
   "mimetype": "text/x-python",
   "name": "python",
   "nbconvert_exporter": "python",
   "pygments_lexer": "ipython3",
   "version": "3.10.6"
  },
  "orig_nbformat": 4
 },
 "nbformat": 4,
 "nbformat_minor": 2
}
